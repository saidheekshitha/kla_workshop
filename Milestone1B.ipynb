{
 "cells": [
  {
   "cell_type": "code",
   "execution_count": 36,
   "metadata": {},
   "outputs": [
    {
     "name": "stdout",
     "output_type": "stream",
     "text": [
      "{'M1A_Workflow': {'Type': 'Flow', 'Execution': 'Sequential', 'Activities': {'TaskA': {'Type': 'Task', 'Function': 'TimeFunction', 'Inputs': {'FunctionInput': 'TaskA_Input', 'ExecutionTime': '1'}}, 'TaskB': {'Type': 'Task', 'Function': 'TimeFunction', 'Inputs': {'FunctionInput': 'TaskB_Input', 'ExecutionTime': '2'}}, 'FlowA': {'Type': 'Flow', 'Execution': 'Sequential', 'Activities': {'TaskC': {'Type': 'Task', 'Function': 'TimeFunction', 'Inputs': {'FunctionInput': 'TaskC_Input', 'ExecutionTime': '3'}}, 'TaskD': {'Type': 'Task', 'Function': 'TimeFunction', 'Inputs': {'FunctionInput': 'TaskD_Input', 'ExecutionTime': '4'}}}}}}}\n"
     ]
    }
   ],
   "source": [
    "import yaml\n",
    "from yaml.loader import SafeLoader\n",
    "from datetime import datetime\n",
    "import time\n",
    "import copy\n",
    "import pandas as pd\n",
    "file='Milestone1A.yaml'\n",
    "\n",
    "with open(file) as f:\n",
    "    config = yaml.load(f, Loader=SafeLoader)\n",
    "print(config)"
   ]
  },
  {
   "cell_type": "code",
   "execution_count": 37,
   "metadata": {},
   "outputs": [],
   "source": [
    "def TimeFunction(FunctionInput,ExecutionTime):\n",
    "    print(1)\n",
    "    time.sleep(int(ExecutionTime))\n",
    "    print(int(ExecutionTime))\n",
    "    return\n",
    "    \n",
    "def DataLoad(Filename):\n",
    "    print(2)\n",
    "    DataTable=pd.read_csv(Filename)\n",
    "    NoOfDefects=DataTable.shape[0]-1\n",
    "    \n",
    "    return DataTable, NoOfDefects\n",
    "\n",
    "\n",
    "def callfunction(name,inputs):\n",
    "    if name=='TimeFunction':\n",
    "        TimeFunction(inputs[0],inputs[1])\n",
    "    elif name=='DataLoad':\n",
    "        DataLoad(inputs[0])"
   ]
  },
  {
   "cell_type": "code",
   "execution_count": 38,
   "metadata": {},
   "outputs": [],
   "source": [
    "def runTask(task,parents):\n",
    "    print(task)\n",
    "    name=''\n",
    "    for i in parents:\n",
    "        name+=str(i)+'.'\n",
    "    \n",
    "    f.write(str(datetime.now())+';'+name[:-1]+' Entry\\n')\n",
    "    if task['Type']=='Task':\n",
    "        funs=''\n",
    "        parms=''\n",
    "        inputs=[]\n",
    "\n",
    "        for i in task['Inputs'].values():\n",
    "            inputs.append(i)\n",
    "            funs+=str(i)+', '\n",
    "        parms=funs\n",
    "                \n",
    "        \n",
    "        f.write(str(datetime.now())+';'+name[:-1]+' Executing ' +str(task['Function'])+' ('+parms[:-2]+')\\n')\n",
    "        callfunction(task['Function'],inputs)\n",
    "        \n",
    "    else:\n",
    "        if(task['Execution']=='Sequential'):\n",
    "            Activits=task['Activities']\n",
    "            for i in Activits:\n",
    "                par=copy.deepcopy(parents)\n",
    "                par.append(i)\n",
    "                runTask(Activits[i],par)\n",
    "        else:\n",
    "            pass\n",
    "    f.write(str(datetime.now())+';'+name[:-1]+' Exit\\n')"
   ]
  },
  {
   "cell_type": "code",
   "execution_count": 39,
   "metadata": {},
   "outputs": [
    {
     "name": "stdout",
     "output_type": "stream",
     "text": [
      "{'Type': 'Task', 'Function': 'TimeFunction', 'Inputs': {'FunctionInput': 'TaskA_Input', 'ExecutionTime': '1'}}\n",
      "1\n",
      "1\n",
      "{'Type': 'Task', 'Function': 'TimeFunction', 'Inputs': {'FunctionInput': 'TaskB_Input', 'ExecutionTime': '2'}}\n",
      "1\n",
      "2\n",
      "{'Type': 'Flow', 'Execution': 'Sequential', 'Activities': {'TaskC': {'Type': 'Task', 'Function': 'TimeFunction', 'Inputs': {'FunctionInput': 'TaskC_Input', 'ExecutionTime': '3'}}, 'TaskD': {'Type': 'Task', 'Function': 'TimeFunction', 'Inputs': {'FunctionInput': 'TaskD_Input', 'ExecutionTime': '4'}}}}\n",
      "{'Type': 'Task', 'Function': 'TimeFunction', 'Inputs': {'FunctionInput': 'TaskC_Input', 'ExecutionTime': '3'}}\n",
      "1\n",
      "3\n",
      "{'Type': 'Task', 'Function': 'TimeFunction', 'Inputs': {'FunctionInput': 'TaskD_Input', 'ExecutionTime': '4'}}\n",
      "1\n",
      "4\n"
     ]
    }
   ],
   "source": [
    "task_list=list(config.keys())[0]\n",
    "f = open(file[:-5]+\"_Log.txt\", \"w\")\n",
    "f.write(str(datetime.now())+';'+task_list+' Entry\\n')\n",
    "baseActivities=config[task_list]['Activities']\n",
    "for i in baseActivities:\n",
    "    runTask(baseActivities[i],[task_list,i])\n",
    "\n",
    "f.write(str(datetime.now())+';'+task_list+' Exit')\n",
    "f.close()"
   ]
  },
  {
   "cell_type": "code",
   "execution_count": null,
   "metadata": {},
   "outputs": [],
   "source": []
  },
  {
   "cell_type": "code",
   "execution_count": null,
   "metadata": {},
   "outputs": [],
   "source": []
  },
  {
   "cell_type": "code",
   "execution_count": null,
   "metadata": {},
   "outputs": [],
   "source": []
  }
 ],
 "metadata": {
  "kernelspec": {
   "display_name": "Python 3",
   "language": "python",
   "name": "python3"
  },
  "language_info": {
   "codemirror_mode": {
    "name": "ipython",
    "version": 3
   },
   "file_extension": ".py",
   "mimetype": "text/x-python",
   "name": "python",
   "nbconvert_exporter": "python",
   "pygments_lexer": "ipython3",
   "version": "3.8.3"
  }
 },
 "nbformat": 4,
 "nbformat_minor": 4
}
