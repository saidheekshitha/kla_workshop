{
 "cells": [
  {
   "cell_type": "code",
   "execution_count": 2,
   "metadata": {},
   "outputs": [
    {
     "name": "stdout",
     "output_type": "stream",
     "text": [
      "{'M1B_Workflow': {'Type': 'Flow', 'Execution': 'Sequential', 'Activities': {'TaskA': {'Type': 'Task', 'Function': 'TimeFunction', 'Inputs': {'FunctionInput': 'TaskA_Input', 'ExecutionTime': '1'}}, 'FlowA': {'Type': 'Flow', 'Execution': 'Concurrent', 'Activities': {'TaskB': {'Type': 'Task', 'Function': 'TimeFunction', 'Inputs': {'FunctionInput': 'TaskB_Input', 'ExecutionTime': '14'}}, 'TaskC': {'Type': 'Task', 'Function': 'TimeFunction', 'Inputs': {'FunctionInput': 'TaskC_Input', 'ExecutionTime': '5'}}, 'TaskD': {'Type': 'Task', 'Function': 'TimeFunction', 'Inputs': {'FunctionInput': 'TaskD_Input', 'ExecutionTime': '5'}}, 'FlowB': {'Type': 'Flow', 'Execution': 'Sequential', 'Activities': {'TaskE': {'Type': 'Task', 'Function': 'TimeFunction', 'Inputs': {'FunctionInput': 'TaskE_Input', 'ExecutionTime': '5'}}, 'TaskF': {'Type': 'Task', 'Function': 'TimeFunction', 'Inputs': {'FunctionInput': 'TaskF_Input', 'ExecutionTime': '1'}}}}, 'FlowC': {'Type': 'Flow', 'Execution': 'Sequential', 'Activities': {'TaskG': {'Type': 'Task', 'Function': 'TimeFunction', 'Inputs': {'FunctionInput': 'TaskG_Input', 'ExecutionTime': '2'}}, 'TaskH': {'Type': 'Task', 'Function': 'TimeFunction', 'Inputs': {'FunctionInput': 'TaskH_Input', 'ExecutionTime': '2'}}}}, 'TaskI': {'Type': 'Task', 'Function': 'TimeFunction', 'Inputs': {'FunctionInput': 'TaskI_Input', 'ExecutionTime': '5'}}}}, 'TaskZ': {'Type': 'Task', 'Function': 'TimeFunction', 'Inputs': {'FunctionInput': 'TaskZ_Input', 'ExecutionTime': '5'}}}}}\n"
     ]
    }
   ],
   "source": [
    "import yaml\n",
    "from yaml.loader import SafeLoader\n",
    "from datetime import datetime\n",
    "import time\n",
    "import pandas as pd\n",
    "file='Milestone1B.yaml'\n",
    "\n",
    "with open(file) as f:\n",
    "    config = yaml.load(f, Loader=SafeLoader)\n",
    "print(config)"
   ]
  },
  {
   "cell_type": "code",
   "execution_count": 3,
   "metadata": {},
   "outputs": [],
   "source": [
    "def TimeFunction(FunctionInput,ExecutionTime):\n",
    "    print(1)\n",
    "    time.sleep(int(ExecutionTime))\n",
    "    print(int(ExecutionTime))\n",
    "    return\n",
    "    \n",
    "def DataLoad(Filename):\n",
    "    print(2)\n",
    "    DataTable=pd.read_csv(Filename)\n",
    "    NoOfDefects=DataTable.shape[0]-1\n",
    "    \n",
    "    return DataTable, NoOfDefects\n",
    "\n",
    "\n",
    "def callfunction(name,inputs):\n",
    "    if name=='TimeFunction':\n",
    "        TimeFunction(inputs[0],inputs[1])\n",
    "    elif name=='DataLoad':\n",
    "        DataLoad(inputs[0])"
   ]
  },
  {
   "cell_type": "code",
   "execution_count": 4,
   "metadata": {},
   "outputs": [],
   "source": [
    "def runTask(task,main):\n",
    "    print(task)\n",
    "    name=''\n",
    "    for i in main:\n",
    "        name+=str(i)+'.'\n",
    "    \n",
    "    f.write(str(datetime.now())+';'+name[:-1]+' Entry\\n')\n",
    "    if task['Type']=='Task':\n",
    "        fun=''\n",
    "        parm=''\n",
    "        inputs=[]\n",
    "\n",
    "        for i in task['Inputs'].values():\n",
    "            inputs.append(i)\n",
    "            fun+=str(i)+','\n",
    "        if(task['Function']=='TimeFunction'):\n",
    "            parm=str(inputs[-1])+','\n",
    "        else:\n",
    "            parm=fun\n",
    "                \n",
    "        \n",
    "        f.write(str(datetime.now())+';'+name[:-1]+' Executing ' +str(task['Function'])+' ('+parm[:-1]+')\\n')\n",
    "        callfunction(task['Function'],inputs)\n",
    "        \n",
    "    else:\n",
    "        Activits=task['Activities']\n",
    "        for i in Activits:\n",
    "            par=main\n",
    "            par.append(i)\n",
    "            runTask(Activits[i],par)\n",
    "    f.write(str(datetime.now())+';'+name[:-1]+' Exit\\n')"
   ]
  },
  {
   "cell_type": "code",
   "execution_count": 6,
   "metadata": {},
   "outputs": [
    {
     "name": "stdout",
     "output_type": "stream",
     "text": [
      "{'Type': 'Task', 'Function': 'TimeFunction', 'Inputs': {'FunctionInput': 'TaskA_Input', 'ExecutionTime': '1'}}\n",
      "1\n",
      "1\n",
      "{'Type': 'Flow', 'Execution': 'Concurrent', 'Activities': {'TaskB': {'Type': 'Task', 'Function': 'TimeFunction', 'Inputs': {'FunctionInput': 'TaskB_Input', 'ExecutionTime': '14'}}, 'TaskC': {'Type': 'Task', 'Function': 'TimeFunction', 'Inputs': {'FunctionInput': 'TaskC_Input', 'ExecutionTime': '5'}}, 'TaskD': {'Type': 'Task', 'Function': 'TimeFunction', 'Inputs': {'FunctionInput': 'TaskD_Input', 'ExecutionTime': '5'}}, 'FlowB': {'Type': 'Flow', 'Execution': 'Sequential', 'Activities': {'TaskE': {'Type': 'Task', 'Function': 'TimeFunction', 'Inputs': {'FunctionInput': 'TaskE_Input', 'ExecutionTime': '5'}}, 'TaskF': {'Type': 'Task', 'Function': 'TimeFunction', 'Inputs': {'FunctionInput': 'TaskF_Input', 'ExecutionTime': '1'}}}}, 'FlowC': {'Type': 'Flow', 'Execution': 'Sequential', 'Activities': {'TaskG': {'Type': 'Task', 'Function': 'TimeFunction', 'Inputs': {'FunctionInput': 'TaskG_Input', 'ExecutionTime': '2'}}, 'TaskH': {'Type': 'Task', 'Function': 'TimeFunction', 'Inputs': {'FunctionInput': 'TaskH_Input', 'ExecutionTime': '2'}}}}, 'TaskI': {'Type': 'Task', 'Function': 'TimeFunction', 'Inputs': {'FunctionInput': 'TaskI_Input', 'ExecutionTime': '5'}}}}\n",
      "{'Type': 'Task', 'Function': 'TimeFunction', 'Inputs': {'FunctionInput': 'TaskB_Input', 'ExecutionTime': '14'}}\n",
      "1\n",
      "14\n",
      "{'Type': 'Task', 'Function': 'TimeFunction', 'Inputs': {'FunctionInput': 'TaskC_Input', 'ExecutionTime': '5'}}\n",
      "1\n",
      "5\n",
      "{'Type': 'Task', 'Function': 'TimeFunction', 'Inputs': {'FunctionInput': 'TaskD_Input', 'ExecutionTime': '5'}}\n",
      "1\n",
      "5\n",
      "{'Type': 'Flow', 'Execution': 'Sequential', 'Activities': {'TaskE': {'Type': 'Task', 'Function': 'TimeFunction', 'Inputs': {'FunctionInput': 'TaskE_Input', 'ExecutionTime': '5'}}, 'TaskF': {'Type': 'Task', 'Function': 'TimeFunction', 'Inputs': {'FunctionInput': 'TaskF_Input', 'ExecutionTime': '1'}}}}\n",
      "{'Type': 'Task', 'Function': 'TimeFunction', 'Inputs': {'FunctionInput': 'TaskE_Input', 'ExecutionTime': '5'}}\n",
      "1\n",
      "5\n",
      "{'Type': 'Task', 'Function': 'TimeFunction', 'Inputs': {'FunctionInput': 'TaskF_Input', 'ExecutionTime': '1'}}\n",
      "1\n",
      "1\n",
      "{'Type': 'Flow', 'Execution': 'Sequential', 'Activities': {'TaskG': {'Type': 'Task', 'Function': 'TimeFunction', 'Inputs': {'FunctionInput': 'TaskG_Input', 'ExecutionTime': '2'}}, 'TaskH': {'Type': 'Task', 'Function': 'TimeFunction', 'Inputs': {'FunctionInput': 'TaskH_Input', 'ExecutionTime': '2'}}}}\n",
      "{'Type': 'Task', 'Function': 'TimeFunction', 'Inputs': {'FunctionInput': 'TaskG_Input', 'ExecutionTime': '2'}}\n",
      "1\n",
      "2\n",
      "{'Type': 'Task', 'Function': 'TimeFunction', 'Inputs': {'FunctionInput': 'TaskH_Input', 'ExecutionTime': '2'}}\n",
      "1\n",
      "2\n",
      "{'Type': 'Task', 'Function': 'TimeFunction', 'Inputs': {'FunctionInput': 'TaskI_Input', 'ExecutionTime': '5'}}\n",
      "1\n",
      "5\n",
      "{'Type': 'Task', 'Function': 'TimeFunction', 'Inputs': {'FunctionInput': 'TaskZ_Input', 'ExecutionTime': '5'}}\n",
      "1\n",
      "5\n"
     ]
    }
   ],
   "source": [
    "task_list=list(config.keys())[0]\n",
    "f = open(file[:-5]+\"_Log.txt\", \"w\")\n",
    "f.write(str(datetime.now())+';'+task_list+' Entry\\n')\n",
    "baseActivities=config[task_list]['Activities']\n",
    "for i in baseActivities:\n",
    "    runTask(baseActivities[i],[task_list,i])\n",
    "\n",
    "f.write(str(datetime.now())+';'+task_list+' Exit')\n",
    "f.close()"
   ]
  },
  {
   "cell_type": "code",
   "execution_count": null,
   "metadata": {},
   "outputs": [],
   "source": []
  },
  {
   "cell_type": "code",
   "execution_count": null,
   "metadata": {},
   "outputs": [],
   "source": []
  }
 ],
 "metadata": {
  "kernelspec": {
   "display_name": "Python 3",
   "language": "python",
   "name": "python3"
  },
  "language_info": {
   "codemirror_mode": {
    "name": "ipython",
    "version": 3
   },
   "file_extension": ".py",
   "mimetype": "text/x-python",
   "name": "python",
   "nbconvert_exporter": "python",
   "pygments_lexer": "ipython3",
   "version": "3.8.3"
  }
 },
 "nbformat": 4,
 "nbformat_minor": 4
}
